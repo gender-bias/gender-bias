{
 "cells": [
  {
   "cell_type": "code",
   "execution_count": 2,
   "metadata": {},
   "outputs": [
    {
     "name": "stdout",
     "output_type": "stream",
     "text": [
      "{'GenderedWordDetector': <class 'genderbias.genderedwords.GenderedWordDetector'>, 'PersonalLifeDetector': <class 'genderbias.personal_life.PersonalLifeDetector'>, 'EffortDetector': <class 'genderbias.effort.EffortDetector'>, 'PublicationDetector': <class 'genderbias.publications.PublicationDetector'>, 'FemaleDetector': <class 'genderbias.femalewords.FemaleDetector'>, 'MaleDetector': <class 'genderbias.malewords.MaleDetector'>, 'ConditionalSuperlativesDetector': <class 'genderbias.conditionalsuperlatives.ConditionalSuperlativesDetector'>}\n"
     ]
    }
   ],
   "source": [
    "# To run this you need to have the 'genderbias' package installed\n",
    "# Since the package is not on PyPI, you will need to run 'pip -e .' from the cloned git repository to do so\n",
    "\n",
    "# Import the detectors we have available, and the Document class to load texts\n",
    "from genderbias import ALL_SCANNED_DETECTORS, Document\n",
    "# ALL_SCANNED_DETECTORS is a dictionary of classes, so remember to create one to call get_report\n",
    "print(ALL_SCANNED_DETECTORS)"
   ]
  },
  {
   "cell_type": "code",
   "execution_count": 3,
   "metadata": {},
   "outputs": [
    {
     "name": "stdout",
     "output_type": "stream",
     "text": [
      "Personal Life\n"
     ]
    }
   ],
   "source": [
    "# Document can load text inline, as shown here\n",
    "inline_example = Document(\"I thoroughly recommend PERSON due to their extreme effort in this endeavour.\")\n",
    "# Each detector implements the get_report method, which can be called on a Document, here inline_example\n",
    "# Let's get a report for personal-life inclusions\n",
    "personal_life_report = ALL_SCANNED_DETECTORS['PersonalLifeDetector']().get_report(inline_example)\n",
    "print(personal_life_report)"
   ]
  },
  {
   "cell_type": "code",
   "execution_count": 4,
   "metadata": {},
   "outputs": [
    {
     "name": "stdout",
     "output_type": "stream",
     "text": [
      "Effort vs Accomplishment\n"
     ]
    }
   ],
   "source": [
    "# Now a report for effort vs accomplishment\n",
    "effort_report = ALL_SCANNED_DETECTORS['EffortDetector']().get_report(inline_example)\n",
    "print(effort_report)"
   ]
  },
  {
   "cell_type": "code",
   "execution_count": 6,
   "metadata": {},
   "outputs": [
    {
     "name": "stdout",
     "output_type": "stream",
     "text": [
      "Unnecessarily Gendered Words\n",
      "Personal Life\n",
      "Effort vs Accomplishment\n",
      "Publications\n",
      " SUMMARY: This document does not mention many publications. Try referencing more concrete publications or work byproducts, if possible.\n",
      "\n",
      "Terms biased towards women\n",
      "  [2-12]: thoroughly\n",
      " SUMMARY: Depending on context, these words may be biased towards recruiting women\n",
      "Terms biased towards men:\n",
      "Conditional Superlatives\n"
     ]
    }
   ],
   "source": [
    "# This approach may be easier for using all available Detectors\n",
    "reports = [str(detector().get_report(inline_example)) for detector in ALL_SCANNED_DETECTORS.values()]\n",
    "print(\"\\n\".join(reports))"
   ]
  },
  {
   "cell_type": "code",
   "execution_count": 7,
   "metadata": {},
   "outputs": [
    {
     "name": "stdout",
     "output_type": "stream",
     "text": [
      "[{'name': 'Unnecessarily Gendered Words', 'summary': '', 'flags': []}, {'name': 'Personal Life', 'summary': '', 'flags': []}, {'name': 'Effort vs Accomplishment', 'summary': '', 'flags': [(2, 12, 'Effort vs Accomplishment', \"The word 'thoroughly' tends to speak more about effort than concrete accomplishment.\", 'Speak about concrete achievement rather than abstract effort.', -0.5), (66, 75, 'Effort vs Accomplishment', \"The word 'endeavour' tends to speak more about effort than concrete accomplishment.\", 'Speak about concrete achievement rather than abstract effort.', -0.5)]}, {'name': 'Publications', 'summary': 'This document does not mention many publications. Try referencing more concrete publications or work byproducts, if possible.', 'flags': []}, {'name': '\\nTerms biased towards women', 'summary': 'Depending on context, these words may be biased towards recruiting women', 'flags': [(2, 12, 'thoroughly', '', '', -1.0)]}, {'name': 'Terms biased towards men:', 'summary': '', 'flags': []}, {'name': 'Conditional Superlatives', 'summary': '', 'flags': []}]\n"
     ]
    }
   ],
   "source": [
    "# For using the data elsewhere, a JSON format may be easier; a Report provides 'to_dict'\n",
    "reports_json = [detector().get_report(inline_example).to_dict() for detector in ALL_SCANNED_DETECTORS.values()]\n",
    "# Just outputting the objects is reasonable...\n",
    "print(reports_json)"
   ]
  },
  {
   "cell_type": "code",
   "execution_count": 8,
   "metadata": {},
   "outputs": [
    {
     "name": "stdout",
     "output_type": "stream",
     "text": [
      "[{\"name\": \"Unnecessarily Gendered Words\", \"summary\": \"\", \"flags\": []}, {\"name\": \"Personal Life\", \"summary\": \"\", \"flags\": []}, {\"name\": \"Effort vs Accomplishment\", \"summary\": \"\", \"flags\": [[2, 12, \"Effort vs Accomplishment\", \"The word 'thoroughly' tends to speak more about effort than concrete accomplishment.\", \"Speak about concrete achievement rather than abstract effort.\", -0.5], [66, 75, \"Effort vs Accomplishment\", \"The word 'endeavour' tends to speak more about effort than concrete accomplishment.\", \"Speak about concrete achievement rather than abstract effort.\", -0.5]]}, {\"name\": \"Publications\", \"summary\": \"This document does not mention many publications. Try referencing more concrete publications or work byproducts, if possible.\", \"flags\": []}, {\"name\": \"\\nTerms biased towards women\", \"summary\": \"Depending on context, these words may be biased towards recruiting women\", \"flags\": [[2, 12, \"thoroughly\", \"\", \"\", -1.0]]}, {\"name\": \"Terms biased towards men:\", \"summary\": \"\", \"flags\": []}, {\"name\": \"Conditional Superlatives\", \"summary\": \"\", \"flags\": []}]\n"
     ]
    }
   ],
   "source": [
    "# ...however using the json module may be better (tuples are converted to lists)\n",
    "import json\n",
    "print(json.dumps(reports_json))"
   ]
  }
 ],
 "metadata": {
  "kernelspec": {
   "display_name": "Python 3",
   "language": "python",
   "name": "python3"
  },
  "language_info": {
   "codemirror_mode": {
    "name": "ipython",
    "version": 3
   },
   "file_extension": ".py",
   "mimetype": "text/x-python",
   "name": "python",
   "nbconvert_exporter": "python",
   "pygments_lexer": "ipython3",
   "version": "3.8.9"
  }
 },
 "nbformat": 4,
 "nbformat_minor": 2
}
