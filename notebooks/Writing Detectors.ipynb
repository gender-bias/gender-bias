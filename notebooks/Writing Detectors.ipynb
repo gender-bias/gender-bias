{
 "cells": [
  {
   "cell_type": "code",
   "execution_count": 2,
   "metadata": {},
   "outputs": [],
   "source": [
    "# To run this you need to have the 'genderbias' package installed\n",
    "# Since the package is not on PyPI, you will need to run 'pip -e .' from the cloned git repository to do so\n",
    "\n",
    "# Initially just import the Document class to load texts\n",
    "from genderbias import Document"
   ]
  },
  {
   "cell_type": "code",
   "execution_count": 3,
   "metadata": {},
   "outputs": [],
   "source": [
    "# Document can load text inline, as shown here\n",
    "inline_example = Document(\"I thoroughly recommend PERSON due to their extreme hate in this endeavour of love.\")"
   ]
  },
  {
   "cell_type": "code",
   "execution_count": 4,
   "metadata": {},
   "outputs": [
    {
     "data": {
      "text/plain": [
       "['I',\n",
       " 'thoroughly',\n",
       " 'recommend',\n",
       " 'PERSON',\n",
       " 'due',\n",
       " 'to',\n",
       " 'their',\n",
       " 'extreme',\n",
       " 'hate',\n",
       " 'in',\n",
       " 'this',\n",
       " 'endeavour',\n",
       " 'of',\n",
       " 'love',\n",
       " '.']"
      ]
     },
     "execution_count": 4,
     "metadata": {},
     "output_type": "execute_result"
    }
   ],
   "source": [
    "# Documents have useful methods, eg. the words:\n",
    "inline_example.words()"
   ]
  },
  {
   "cell_type": "code",
   "execution_count": 5,
   "metadata": {},
   "outputs": [
    {
     "data": {
      "text/plain": [
       "[('I', 0, 1),\n",
       " ('thoroughly', 2, 12),\n",
       " ('recommend', 13, 22),\n",
       " ('PERSON', 23, 29),\n",
       " ('due', 30, 33),\n",
       " ('to', 34, 36),\n",
       " ('their', 37, 42),\n",
       " ('extreme', 43, 50),\n",
       " ('hate', 51, 55),\n",
       " ('in', 56, 58),\n",
       " ('this', 59, 63),\n",
       " ('endeavour', 64, 73),\n",
       " ('of', 74, 76),\n",
       " ('love', 77, 81),\n",
       " ('.', 81, 82)]"
      ]
     },
     "execution_count": 5,
     "metadata": {},
     "output_type": "execute_result"
    }
   ],
   "source": [
    "# Also useful is words_with_indices, for finding where a word is in a text, eg. to highlight it:\n",
    "inline_example.words_with_indices()"
   ]
  },
  {
   "cell_type": "code",
   "execution_count": 6,
   "metadata": {},
   "outputs": [
    {
     "name": "stdout",
     "output_type": "stream",
     "text": [
      "Word Count\n",
      " SUMMARY: The document has 15 words\n"
     ]
    }
   ],
   "source": [
    "# A Detector needs one method: get_report; this Detector reports how many words, using the first method above\n",
    "# This requires the Report class, since get_report methods are expected to generate one\n",
    "from genderbias.detector import Report\n",
    "\n",
    "class WordsDetector:\n",
    "    def get_report(self, document):\n",
    "        report = Report(\"Word Count\")\n",
    "        report.set_summary(\"The document has {} words\".format(len(document.words())))\n",
    "        return report\n",
    "\n",
    "words_report = WordsDetector().get_report(inline_example)\n",
    "print(words_report)"
   ]
  },
  {
   "cell_type": "code",
   "execution_count": 8,
   "metadata": {},
   "outputs": [
    {
     "name": "stdout",
     "output_type": "stream",
     "text": [
      "Word Flagger\n",
      "  [13-22]: Word Flagger: Found 'recommend'\n"
     ]
    }
   ],
   "source": [
    "# Here's another detector, just looking for one particular word\n",
    "# We need another import here, since WordFlaggingDetector marks words using Flags and Issues\n",
    "from genderbias.detector import Flag, Issue\n",
    "\n",
    "class WordFlaggingDetector:\n",
    "    def get_report(self, document):\n",
    "        report = Report(\"Word Flagger\")\n",
    "        my_word = 'recommend'\n",
    "        if my_word in document.words():\n",
    "            for word, start, stop in document.words_with_indices():\n",
    "                if my_word == word:\n",
    "                    report.add_flag(Flag(start, stop,\n",
    "                                         Issue(\"Word Flagger\", \"Found '{}'\".format(my_word))))\n",
    "        return report\n",
    "    \n",
    "flagging_report = WordFlaggingDetector().get_report(inline_example)\n",
    "print(flagging_report)"
   ]
  },
  {
   "cell_type": "code",
   "execution_count": 9,
   "metadata": {},
   "outputs": [
    {
     "name": "stdout",
     "output_type": "stream",
     "text": [
      "Love & Hate\n",
      "  [51-55]: Love & Hate: Found hate :(\n",
      "{'name': 'Love & Hate', 'summary': '', 'flags': [(77, 81, 'Love & Hate', 'Found love :)', '', 1.0), (51, 55, 'Love & Hate', 'Found hate :(', '', -1.0)]}\n"
     ]
    }
   ],
   "source": [
    "# The last Detector here, just looking for love and hate.\n",
    "# This uses the 'bias' property of an Issue, which defaults to Issue.negative_result (cf Issue.positive_result)\n",
    "# Note how the positive result is shown only in the raw JSON/dict-based output\n",
    "class LoveHateDetector:\n",
    "    def get_report(self, document):\n",
    "        report = Report(\"Love & Hate\")\n",
    "        if 'love' in document.words():\n",
    "            for word, start, stop in document.words_with_indices():\n",
    "                if 'love' == word:\n",
    "                    report.add_flag(Flag(start, stop,\n",
    "                                         Issue(\"Love & Hate\", \"Found love :)\", bias=Issue.positive_result)))\n",
    "        if 'hate' in document.words():\n",
    "            for word, start, stop in document.words_with_indices():\n",
    "                if 'hate' == word:\n",
    "                    report.add_flag(Flag(start, stop,\n",
    "                                         Issue(\"Love & Hate\", \"Found hate :(\", bias=Issue.negative_result)))\n",
    "\n",
    "        return report\n",
    "    \n",
    "flagging_report = LoveHateDetector().get_report(inline_example)\n",
    "print(flagging_report)\n",
    "print(flagging_report.to_dict())"
   ]
  }
 ],
 "metadata": {
  "kernelspec": {
   "display_name": "Python 3",
   "language": "python",
   "name": "python3"
  },
  "language_info": {
   "codemirror_mode": {
    "name": "ipython",
    "version": 3
   },
   "file_extension": ".py",
   "mimetype": "text/x-python",
   "name": "python",
   "nbconvert_exporter": "python",
   "pygments_lexer": "ipython3",
   "version": "3.8.9"
  }
 },
 "nbformat": 4,
 "nbformat_minor": 2
}
